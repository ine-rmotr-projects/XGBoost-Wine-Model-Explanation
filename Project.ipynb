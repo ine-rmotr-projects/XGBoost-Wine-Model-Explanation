{
 "cells": [
  {
   "cell_type": "markdown",
   "metadata": {
    "slideshow": {
     "slide_type": "slide"
    }
   },
   "source": [
    "<div style=\"position: relative; text-align: right;\">\n",
    "<img src=\"https://user-images.githubusercontent.com/7065401/98614301-dcf01780-22d6-11eb-9c8f-65ebfceac6f6.png\" style=\"width: 130px; display: inline-block;\"></img>\n",
    "\n",
    "<img src=\"https://user-images.githubusercontent.com/7065401/98864025-08deda80-2448-11eb-9600-22aa17884cdf.png\" style=\"height: 100%; max-height: inherit; position: absolute; top: 20%; left: 0px;\"></img>\n",
    "<br>\n",
    "\n",
    "<h2 style=\"font-weight: bold;\">\n",
    "    Kristin Day\n",
    "</h2>\n",
    "\n",
    "<h3 style=\"color: #ef7d22; margin-top: 0.8em\">\n",
    "    Data Scientist\n",
    "</h3>\n",
    "<hr>\n",
    "<br><br>\n",
    "\n",
    "<p style=\"font-size: 80%; text-align: right; margin: 10px 0px;\">\n",
    "    yokristinday@gmail.com\n",
    "</p>\n",
    "<p style=\"font-size: 80%; text-align: right; margin: 10px 0px;\">\n",
    "    linkedin.com/in/kristin-day-300306a9\n",
    "</p>\n",
    "\n",
    "</div>\n",
    "\n",
    "<br><br><br>"
   ]
  },
  {
   "cell_type": "markdown",
   "metadata": {
    "slideshow": {
     "slide_type": "slide"
    }
   },
   "source": [
    "<div style=\"position: relative;\">\n",
    "<img src=\"https://user-images.githubusercontent.com/7065401/98728503-5ab82f80-2378-11eb-9c79-adeb308fc647.png\"></img>\n",
    "\n",
    "<h1 style=\"color: white; position: absolute; top:30%; left:10%;\">\n",
    "    Ensembles & Random Forests\n",
    "</h1>\n",
    "\n",
    "<h3 style=\"color: #ef7d22; font-weight: normal; position: absolute; top:43%; left:10%;\">\n",
    "    Kristin Day\n",
    "</h3>\n",
    "</div>"
   ]
  },
  {
   "cell_type": "markdown",
   "metadata": {
    "slideshow": {
     "slide_type": "slide"
    }
   },
   "source": [
    "<div style=\"width: 100%; background-color: #222; text-align: center\">\n",
    "<br><br>\n",
    "\n",
    "<h1 style=\"color: white; font-weight: bold;\">\n",
    "    Project\n",
    "</h1>\n",
    "    \n",
    "<h3 style=\"color: #ef7d22; font-weight: normal;\">\n",
    "    XGBoost Wine Model Explanation\n",
    "</h3>\n",
    "\n",
    "<br><br> \n",
    "</div>\n",
    "\n",
    "![orange-divider](https://user-images.githubusercontent.com/7065401/98619088-44ab6000-22e1-11eb-8f6d-5532e68ab274.png)"
   ]
  },
  {
   "cell_type": "code",
   "execution_count": null,
   "metadata": {},
   "outputs": [],
   "source": [
    "import warnings\n",
    "warnings.filterwarnings('ignore')"
   ]
  },
  {
   "cell_type": "code",
   "execution_count": null,
   "metadata": {},
   "outputs": [],
   "source": [
    "# Import installed packages\n",
    "import matplotlib.pyplot as plt\n",
    "%matplotlib inline\n",
    "import numpy as np\n",
    "import pandas as pd\n",
    "import seaborn as sns\n",
    "\n",
    "# Import sklearn packages\n",
    "from sklearn.inspection import permutation_importance\n",
    "from sklearn.datasets import load_wine\n",
    "from sklearn.metrics import accuracy_score,confusion_matrix\n",
    "from sklearn.model_selection import train_test_split,RandomizedSearchCV\n",
    "from sklearn.preprocessing import Normalizer,StandardScaler\n",
    "\n",
    "# Import xgboost packages\n",
    "import xgboost as xgb\n",
    "from xgboost import XGBClassifier"
   ]
  },
  {
   "cell_type": "code",
   "execution_count": null,
   "metadata": {},
   "outputs": [],
   "source": [
    "# Load the wine dataset from Scikit-Learn\n"
   ]
  },
  {
   "cell_type": "code",
   "execution_count": null,
   "metadata": {},
   "outputs": [],
   "source": [
    "# Use the built-in attribute to describe the data\n",
    "for line in data.DESCR.split('\\n'):\n",
    "    print(line)"
   ]
  },
  {
   "cell_type": "code",
   "execution_count": null,
   "metadata": {},
   "outputs": [],
   "source": [
    "# Put the data in a dataframe and have a look at it\n",
    "\n",
    "\n",
    "# Show the first 5 rows of data\n"
   ]
  },
  {
   "cell_type": "code",
   "execution_count": null,
   "metadata": {},
   "outputs": [],
   "source": [
    "# Split the data into train and validate (this is a toy set and really to small for text and validate)\n"
   ]
  },
  {
   "cell_type": "code",
   "execution_count": null,
   "metadata": {},
   "outputs": [],
   "source": [
    "# Because all of the features are continuous, and because XGBoost uses some linear techniques . . .\n",
    "# This data will likely benefit from standardization and transformation (see feature engineering course for more on this)\n",
    "# Normalize and Scale numeric data\n",
    "\n",
    "# Instantiate the normalizer\n",
    "\n",
    "\n",
    "# Instantiate the standard scaler\n",
    "\n",
    "\n",
    "# Normalize the train data\n",
    "\n",
    "# Scale the normalized train data\n",
    "\n",
    "\n",
    "# Normalize the validation data\n",
    "\n",
    "# Scale the normalized validation data\n"
   ]
  },
  {
   "cell_type": "code",
   "execution_count": null,
   "metadata": {},
   "outputs": [],
   "source": [
    "# In order to see feature names later, we'll put our data into xgboost.DMatrix\n",
    "# Load the scaled train data into xgb.DMatrix with feature names\n",
    "\n",
    "# Load the scaled validation data into xgb.DMatrix with feature names\n"
   ]
  },
  {
   "cell_type": "code",
   "execution_count": null,
   "metadata": {},
   "outputs": [],
   "source": [
    "# Use these parameters to train an xgboost model\n",
    "params = {\n",
    "    'max_depth': 3,  # the maximum depth of each tree\n",
    "    'eta': 0.01,  # the training step for each iteration\n",
    "    'silent': 0,  # logging mode - quiet\n",
    "    'objective': 'multi:softprob',  # error evaluation for multiclass training\n",
    "    'num_class': 3}  # the number of classes that exist in this datset\n",
    "num_rounds = 20  # the number of training iterations\n",
    "\n",
    "# OPTIONAL CHALLENGE: use a search grid to optimize the model parameters\n",
    "\n",
    "# Train the model using the DMatrix train data\n"
   ]
  },
  {
   "cell_type": "code",
   "execution_count": null,
   "metadata": {},
   "outputs": [],
   "source": [
    "# Get the predictions on the training data and save the prediction with highest confidence to an array\n",
    "\n",
    "# Get the predictions on the validation data and save the prediction with highest confidence to an array\n"
   ]
  },
  {
   "cell_type": "code",
   "execution_count": null,
   "metadata": {},
   "outputs": [],
   "source": [
    "# Use a seaborn heatmap to visualize the categorical accuracy on the test set\n",
    "# How is our model really performing?\n",
    "\n",
    "# Put the validation data and prediction into an sklearn confusion matrix\n",
    "\n",
    "\n",
    "\n",
    "# Create a dataframe from the confusion matrix\n",
    "\n",
    "# Add a label to the y-axis of Actual (hint: this is the data frame index)\n",
    "\n",
    "# Add a label to the x-axis of Predicted (hint: this is the data frame columns)\n",
    "\n",
    "# Create the heatmap plot\n"
   ]
  },
  {
   "cell_type": "markdown",
   "metadata": {},
   "source": [
    "## How are XGBoost feature importances calculated?\n",
    "It depends.  \n",
    "By default, **\"gain\"** is used.  But there are several other options:\n",
    "* gain - essentially the same thing as measuring decrease in impurity\n",
    "* cover - calculating the number of observations impacted by a feature\n",
    "* weight or frequency - counting the number of times a feature is used in a split (not recommended)"
   ]
  },
  {
   "cell_type": "code",
   "execution_count": null,
   "metadata": {},
   "outputs": [],
   "source": [
    "# Use the built-in XGBoost feature importance method\n",
    "# Create lists to hold features and importances\n",
    "\n",
    "\n",
    "# Loop through the model scores and append the feature names and importance scores to the respective lists\n",
    "\n",
    "    \n",
    "# For easier viewing, put the features and their importances in a dataframe\n",
    "\n",
    "# Sort the dataframe based on the importance scores so that the highest are at the top\n",
    "\n",
    "# View the data frame\n"
   ]
  },
  {
   "cell_type": "code",
   "execution_count": null,
   "metadata": {},
   "outputs": [],
   "source": [
    "# Scikit-Learn calculation based on validation data\n",
    "# Requires an xgboost object that uses .fit (can't be a booster)\n",
    "\n",
    "# Create a new xgboost model with these parameters\n",
    "best_params = {'subsample': 1.0,\n",
    "                 'n_estimators': 1000,\n",
    "                 'max_depth': 10,\n",
    "                 'learning_rate': 0.01,\n",
    "                 'gamma': 1,\n",
    "                 'colsample_bytree': 0.8}\n",
    "\n",
    "# OPTIONAL CHALLENGE: use a search grid to optimize parameters\n",
    "\n",
    "\n",
    "\n",
    "# Fit the classifier on scaled train data\n",
    "\n",
    "# Get the train score\n"
   ]
  },
  {
   "cell_type": "code",
   "execution_count": null,
   "metadata": {},
   "outputs": [],
   "source": [
    "# Get the validation score\n"
   ]
  },
  {
   "cell_type": "code",
   "execution_count": null,
   "metadata": {},
   "outputs": [],
   "source": [
    "# Get the Scikit-Learn permutation importance on validation data\n",
    "# Create a list to hold the most important features\n",
    "\n",
    "# Get the permutation importances\n",
    "\n",
    "\n",
    "# Loop through the importances and append to the list you created above\n",
    "# (optional: print out the feature names and importances as you loop)\n"
   ]
  },
  {
   "cell_type": "code",
   "execution_count": null,
   "metadata": {},
   "outputs": [],
   "source": [
    "# Scikit-Learn calculation based on train data\n",
    "# Create a list to hold importance values\n",
    "\n",
    "# Get the permutation importance scores\n",
    "\n",
    "\n",
    "# Loop through the scores and append them to the list you created above\n"
   ]
  },
  {
   "cell_type": "code",
   "execution_count": null,
   "metadata": {},
   "outputs": [],
   "source": [
    "# For an easier way to compare the importances in order. . .\n",
    "# Put the results of the three methods into a data frame\n",
    "# Create an empty data frame\n",
    "\n",
    "# Add the top five features from the xgb built-in method\n",
    "\n",
    "# Add the top five features from sklearn permutation importance on train data\n",
    "\n",
    "# Add the top five features from sklearn permutation importance on validation data\n",
    "\n",
    "# View the data frame\n"
   ]
  },
  {
   "cell_type": "markdown",
   "metadata": {},
   "source": [
    "# What might you understand about the features from the data frame above?\n",
    "Double click on this cell and type your answer here . . . "
   ]
  },
  {
   "cell_type": "markdown",
   "metadata": {
    "slideshow": {
     "slide_type": "slide"
    }
   },
   "source": [
    "<div style=\"position: relative;\">\n",
    "<img src=\"https://user-images.githubusercontent.com/7065401/98729912-57be3e80-237a-11eb-80e4-233ac344b391.png\"></img>\n",
    "</div>"
   ]
  }
 ],
 "metadata": {
  "environment": {
   "name": "tf2-gpu.2-3.m65",
   "type": "gcloud",
   "uri": "gcr.io/deeplearning-platform-release/tf2-gpu.2-3:m65"
  },
  "kernelspec": {
   "display_name": "Python 3",
   "language": "python",
   "name": "python3"
  },
  "language_info": {
   "codemirror_mode": {
    "name": "ipython",
    "version": 3
   },
   "file_extension": ".py",
   "mimetype": "text/x-python",
   "name": "python",
   "nbconvert_exporter": "python",
   "pygments_lexer": "ipython3",
   "version": "3.8.6"
  }
 },
 "nbformat": 4,
 "nbformat_minor": 4
}
